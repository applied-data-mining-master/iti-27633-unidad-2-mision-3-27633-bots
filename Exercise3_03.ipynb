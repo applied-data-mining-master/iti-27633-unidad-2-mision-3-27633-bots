{
  "nbformat": 4,
  "nbformat_minor": 0,
  "metadata": {
    "kernelspec": {
      "display_name": "Python 3",
      "language": "python",
      "name": "python3"
    },
    "language_info": {
      "codemirror_mode": {
        "name": "ipython",
        "version": 3
      },
      "file_extension": ".py",
      "mimetype": "text/x-python",
      "name": "python",
      "nbconvert_exporter": "python",
      "pygments_lexer": "ipython3",
      "version": "3.8.5"
    },
    "colab": {
      "name": "Exercise3_03.ipynb",
      "provenance": []
    }
  },
  "cells": [
    {
      "cell_type": "markdown",
      "metadata": {
        "id": "FAXTmGN2DHrk"
      },
      "source": [
        "# Exercise 3.03: Illustrating the K-Nearest Neighbors Classifier Algorithm in Matplotlib\n",
        "\n",
        "Suppose we have a list of employee data. Our features are the number of hours worked per week and the yearly salary. Our label indicates whether an employee has stayed with our company for more than 2 years. The length of stay is represented by zero if it is less than 2 years and one if it is greater than or equal to 2 years.\n",
        "\n",
        "We want to create a three-nearest neighbors classifier that determines whether an employee will stay with our company for at least 2 years.\n",
        "\n",
        "Then, we would like to use this classifier to predict whether an employee with a request to work 32 hours a week and earning 52,000 dollars per year is going to stay with the company for 2 years or not.\n",
        "\n",
        "Follow these steps to complete this exercise:"
      ]
    },
    {
      "cell_type": "markdown",
      "metadata": {
        "id": "JvrBaCTeDHrt"
      },
      "source": [
        "1.- Import the pandas package as pd"
      ]
    },
    {
      "cell_type": "code",
      "metadata": {
        "id": "V14oZ8YhDHru"
      },
      "source": [
        "import pandas as pd"
      ],
      "execution_count": 1,
      "outputs": []
    },
    {
      "cell_type": "markdown",
      "metadata": {
        "id": "qUhYd1MaDHru"
      },
      "source": [
        "2.- Create a new variable called file_url(), which will contain the URL to the raw dataset. Use the `data/employees_churned.csv` file"
      ]
    },
    {
      "cell_type": "code",
      "metadata": {
        "id": "l7sdGYPDDHrv"
      },
      "source": [
        "file_url = 'https://raw.githubusercontent.com/PacktWorkshops/The-Applied-Artificial-Intelligence-Workshop/master/Datasets/employees_churned.csv'"
      ],
      "execution_count": 2,
      "outputs": []
    },
    {
      "cell_type": "markdown",
      "metadata": {
        "id": "qJVbta52DHrv"
      },
      "source": [
        "3.- Load the data using the `pd.read_csv()` method:"
      ]
    },
    {
      "cell_type": "code",
      "metadata": {
        "id": "EogF81tADHrw"
      },
      "source": [
        "df = pd.read_csv(file_url)"
      ],
      "execution_count": 3,
      "outputs": []
    },
    {
      "cell_type": "markdown",
      "metadata": {
        "id": "Oo22LLb9DHrw"
      },
      "source": [
        "4.- Print the rows of the DataFrame\n",
        "\n",
        "Output:\n",
        "\n",
        "![Figure 3.11](https://github.com/applied-data-mining-master/iti-27633-unidad-2-mision-3-27633-bots/blob/main/img/fig3_11.jpg?raw=1)"
      ]
    },
    {
      "cell_type": "code",
      "metadata": {
        "id": "N0Y54jhnDHrw",
        "colab": {
          "base_uri": "https://localhost:8080/",
          "height": 359
        },
        "outputId": "67a32111-bdf5-47bc-ed8a-0ce286cd0e59"
      },
      "source": [
        "df"
      ],
      "execution_count": 4,
      "outputs": [
        {
          "output_type": "execute_result",
          "data": {
            "text/html": [
              "<div>\n",
              "<style scoped>\n",
              "    .dataframe tbody tr th:only-of-type {\n",
              "        vertical-align: middle;\n",
              "    }\n",
              "\n",
              "    .dataframe tbody tr th {\n",
              "        vertical-align: top;\n",
              "    }\n",
              "\n",
              "    .dataframe thead th {\n",
              "        text-align: right;\n",
              "    }\n",
              "</style>\n",
              "<table border=\"1\" class=\"dataframe\">\n",
              "  <thead>\n",
              "    <tr style=\"text-align: right;\">\n",
              "      <th></th>\n",
              "      <th>hours_worked</th>\n",
              "      <th>salary</th>\n",
              "      <th>over_two_years</th>\n",
              "    </tr>\n",
              "  </thead>\n",
              "  <tbody>\n",
              "    <tr>\n",
              "      <th>0</th>\n",
              "      <td>20</td>\n",
              "      <td>50000</td>\n",
              "      <td>0</td>\n",
              "    </tr>\n",
              "    <tr>\n",
              "      <th>1</th>\n",
              "      <td>24</td>\n",
              "      <td>45000</td>\n",
              "      <td>0</td>\n",
              "    </tr>\n",
              "    <tr>\n",
              "      <th>2</th>\n",
              "      <td>32</td>\n",
              "      <td>48000</td>\n",
              "      <td>0</td>\n",
              "    </tr>\n",
              "    <tr>\n",
              "      <th>3</th>\n",
              "      <td>24</td>\n",
              "      <td>55000</td>\n",
              "      <td>0</td>\n",
              "    </tr>\n",
              "    <tr>\n",
              "      <th>4</th>\n",
              "      <td>40</td>\n",
              "      <td>50000</td>\n",
              "      <td>0</td>\n",
              "    </tr>\n",
              "    <tr>\n",
              "      <th>5</th>\n",
              "      <td>40</td>\n",
              "      <td>62000</td>\n",
              "      <td>1</td>\n",
              "    </tr>\n",
              "    <tr>\n",
              "      <th>6</th>\n",
              "      <td>40</td>\n",
              "      <td>48000</td>\n",
              "      <td>1</td>\n",
              "    </tr>\n",
              "    <tr>\n",
              "      <th>7</th>\n",
              "      <td>32</td>\n",
              "      <td>55000</td>\n",
              "      <td>1</td>\n",
              "    </tr>\n",
              "    <tr>\n",
              "      <th>8</th>\n",
              "      <td>40</td>\n",
              "      <td>72000</td>\n",
              "      <td>1</td>\n",
              "    </tr>\n",
              "    <tr>\n",
              "      <th>9</th>\n",
              "      <td>32</td>\n",
              "      <td>60000</td>\n",
              "      <td>1</td>\n",
              "    </tr>\n",
              "  </tbody>\n",
              "</table>\n",
              "</div>"
            ],
            "text/plain": [
              "   hours_worked  salary  over_two_years\n",
              "0            20   50000               0\n",
              "1            24   45000               0\n",
              "2            32   48000               0\n",
              "3            24   55000               0\n",
              "4            40   50000               0\n",
              "5            40   62000               1\n",
              "6            40   48000               1\n",
              "7            32   55000               1\n",
              "8            40   72000               1\n",
              "9            32   60000               1"
            ]
          },
          "metadata": {
            "tags": []
          },
          "execution_count": 4
        }
      ]
    },
    {
      "cell_type": "markdown",
      "metadata": {
        "id": "tG7yoFVNDHrx"
      },
      "source": [
        "5.- Import `preprocessing` from `scikit-learn`"
      ]
    },
    {
      "cell_type": "code",
      "metadata": {
        "id": "46GNtf3nDHrx"
      },
      "source": [
        "from sklearn import preprocessing"
      ],
      "execution_count": 5,
      "outputs": []
    },
    {
      "cell_type": "markdown",
      "metadata": {
        "id": "BTCTE632DHrx"
      },
      "source": [
        "6.- Instantiate a `MinMaxScaler` with `feature_range=(0,1)` and save it to a variable called `scaler`"
      ]
    },
    {
      "cell_type": "code",
      "metadata": {
        "id": "vizmwIzXDHry"
      },
      "source": [
        "scaler = preprocessing.MinMaxScaler(feature_range=(0,1))"
      ],
      "execution_count": 6,
      "outputs": []
    },
    {
      "cell_type": "markdown",
      "metadata": {
        "id": "kMBAXrplDHry"
      },
      "source": [
        "7.- Scale the DataFrame using `.fit_transform()`, save the results in a new variable called `scaled_employees`, and print its content\n",
        "\n",
        "Output:\n",
        "\n",
        "```\n",
        "array([[0.        , 0.18518519, 0.        ],\n",
        "       [0.2       , 0.        , 0.        ],\n",
        "       [0.6       , 0.11111111, 0.        ],\n",
        "       [0.2       , 0.37037037, 0.        ],\n",
        "       [1.        , 0.18518519, 0.        ],\n",
        "       [1.        , 0.62962963, 1.        ],\n",
        "       [1.        , 0.11111111, 1.        ],\n",
        "       [0.6       , 0.37037037, 1.        ],\n",
        "       [1.        , 1.        , 1.        ],\n",
        "       [0.6       , 0.55555556, 1.        ]])\n",
        "```"
      ]
    },
    {
      "cell_type": "code",
      "metadata": {
        "id": "mDBYv3UuDHry",
        "colab": {
          "base_uri": "https://localhost:8080/"
        },
        "outputId": "e7087f78-d6b1-46f5-c82d-aa9e57553db9"
      },
      "source": [
        "scaled_employees = scaler.fit_transform(df)\r\n",
        "scaled_employees"
      ],
      "execution_count": 7,
      "outputs": [
        {
          "output_type": "execute_result",
          "data": {
            "text/plain": [
              "array([[0.        , 0.18518519, 0.        ],\n",
              "       [0.2       , 0.        , 0.        ],\n",
              "       [0.6       , 0.11111111, 0.        ],\n",
              "       [0.2       , 0.37037037, 0.        ],\n",
              "       [1.        , 0.18518519, 0.        ],\n",
              "       [1.        , 0.62962963, 1.        ],\n",
              "       [1.        , 0.11111111, 1.        ],\n",
              "       [0.6       , 0.37037037, 1.        ],\n",
              "       [1.        , 1.        , 1.        ],\n",
              "       [0.6       , 0.55555556, 1.        ]])"
            ]
          },
          "metadata": {
            "tags": []
          },
          "execution_count": 7
        }
      ]
    },
    {
      "cell_type": "markdown",
      "metadata": {
        "id": "52xldAJ4DHrz"
      },
      "source": [
        "8.- From the scaled data, extract each of the three columns and save them into three variables called `hours_worked`, `salary`, and `over_two_years`"
      ]
    },
    {
      "cell_type": "code",
      "metadata": {
        "id": "oHpAKv8mDHr1"
      },
      "source": [
        "hours_worked = scaled_employees[:, 0]\r\n",
        "salary = scaled_employees[:, 1]\r\n",
        "over_two_years = scaled_employees[:, 2]"
      ],
      "execution_count": 8,
      "outputs": []
    },
    {
      "cell_type": "markdown",
      "metadata": {
        "id": "Typ7i5xSDHr2"
      },
      "source": [
        "9.- Import the `matplotlib.pyplot` package as `plt`"
      ]
    },
    {
      "cell_type": "code",
      "metadata": {
        "id": "ZRurW9OYDHr2"
      },
      "source": [
        "import matplotlib.pyplot as plt"
      ],
      "execution_count": 9,
      "outputs": []
    },
    {
      "cell_type": "markdown",
      "metadata": {
        "id": "ERzprWgdDHr2"
      },
      "source": [
        "10.- Create two scatter plots with `plt.scatter` using `hours_worked` as the x-axis and `salary` as the y-axis, and then create different markers according to the value of `over_two_years`. You can add the labels for the x and y axes with `plt.xlabel` and `plt.ylabel`. Display the scatter plots with `plt.show()`.\n",
        "\n",
        "\n",
        "Output\n",
        "\n",
        "![Figure 3.12](https://github.com/applied-data-mining-master/iti-27633-unidad-2-mision-3-27633-bots/blob/main/img/fig3_12.jpg?raw=1)"
      ]
    },
    {
      "cell_type": "code",
      "metadata": {
        "id": "aDw6qibYDHr3",
        "colab": {
          "base_uri": "https://localhost:8080/",
          "height": 280
        },
        "outputId": "f9ca05d9-a4fe-4f75-dd72-f2092760b611"
      },
      "source": [
        "plt.scatter(hours_worked[:5], salary[:5], marker='+')\r\n",
        "plt.scatter(hours_worked[5:], salary[5:], marker='o')\r\n",
        "plt.xlabel(\"hours_worked\")\r\n",
        "plt.ylabel(\"salary\")\r\n",
        "plt.show()"
      ],
      "execution_count": 10,
      "outputs": [
        {
          "output_type": "display_data",
          "data": {
            "image/png": "[encoded data removed]",
            "text/plain": [
              "<Figure size 432x288 with 1 Axes>"
            ]
          },
          "metadata": {
            "tags": [],
            "needs_background": "light"
          }
        }
      ]
    },
    {
      "cell_type": "markdown",
      "metadata": {
        "id": "wF4gSBghDHr3"
      },
      "source": [
        "we have displayed the data points of the scaled data on a scatter plot. The `+` points represent the employees that stayed less than 2 years, while the `o` ones are for the employees who stayed for more than 2 years.\n",
        "\n",
        "Now, let's say we got a new observation and we want to calculate the Euclidean distance with the data from the scaled dataset."
      ]
    },
    {
      "cell_type": "markdown",
      "metadata": {
        "id": "lzmbaSabDHr3"
      },
      "source": [
        "11.- Create a new variable called `observation` with the coordinates $(0.5, 0.26)$"
      ]
    },
    {
      "cell_type": "code",
      "metadata": {
        "id": "KziI0mDpDHr4"
      },
      "source": [
        "observation = [0.5, 0.26]"
      ],
      "execution_count": 11,
      "outputs": []
    },
    {
      "cell_type": "markdown",
      "metadata": {
        "id": "P556C-FdDHr4"
      },
      "source": [
        "12.- Import the `euclidean_distances` function from `sklearn.metrics.pairwise`"
      ]
    },
    {
      "cell_type": "code",
      "metadata": {
        "id": "-TB8u9j7DHr4"
      },
      "source": [
        "from sklearn.metrics.pairwise import euclidean_distances"
      ],
      "execution_count": 12,
      "outputs": []
    },
    {
      "cell_type": "markdown",
      "metadata": {
        "id": "Z1QX9LHKDHr5"
      },
      "source": [
        "13.- Create a new variable called `features`, which will extract the first two columns of the scaled dataset"
      ]
    },
    {
      "cell_type": "code",
      "metadata": {
        "id": "eyiJIdjpDHr5"
      },
      "source": [
        "features = scaled_employees[:,:2]"
      ],
      "execution_count": 13,
      "outputs": []
    },
    {
      "cell_type": "markdown",
      "metadata": {
        "id": "G2qL7VJ_DHr5"
      },
      "source": [
        "14.- Calculate the Euclidean distance between `observation` and `features` using `euclidean_distances`, save it into a variable called `dist`, and print its value\n",
        "\n",
        "Output:\n",
        "\n",
        "```\n",
        "array([[0.50556627, 0.39698866, 0.17935412, 0.3196586 , 0.50556627,\n",
        "        0.62179262, 0.52169714, 0.14893495, 0.89308454, 0.31201456]])\n",
        "```"
      ]
    },
    {
      "cell_type": "code",
      "metadata": {
        "id": "vnaECyiVDHr6",
        "colab": {
          "base_uri": "https://localhost:8080/"
        },
        "outputId": "7857a708-e0b2-445c-af31-8443e7db755b"
      },
      "source": [
        "dist = euclidean_distances([observation], features)\r\n",
        "dist"
      ],
      "execution_count": 14,
      "outputs": [
        {
          "output_type": "execute_result",
          "data": {
            "text/plain": [
              "array([[0.50556627, 0.39698866, 0.17935412, 0.3196586 , 0.50556627,\n",
              "        0.62179262, 0.52169714, 0.14893495, 0.89308454, 0.31201456]])"
            ]
          },
          "metadata": {
            "tags": []
          },
          "execution_count": 14
        }
      ]
    },
    {
      "cell_type": "code",
      "metadata": {
        "id": "44W8rFFJDHr6"
      },
      "source": [
        ""
      ],
      "execution_count": 14,
      "outputs": []
    }
  ]
}